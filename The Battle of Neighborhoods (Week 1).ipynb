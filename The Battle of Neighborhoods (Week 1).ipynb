{
    "cells": [
        {
            "cell_type": "markdown",
            "metadata": {},
            "source": "# 1. Introduction"
        },
        {
            "cell_type": "markdown",
            "metadata": {},
            "source": "### 1.1 Background"
        },
        {
            "cell_type": "markdown",
            "metadata": {},
            "source": "For this project I am a real estate agent recruited by a family of four, about to relocate from Paris, France to Toronto, Canada. The client is looking to relocate in a neighborhood that is more secure than their current city. \n\nIdeally, the client wishes to live in a **family friendly average neighborhood**, where schools(elementary and high schools) are at walking distance from their homes. As they are big foodies and love discovering new types of food, they would like to have **great diversity in restaurant options** close to their home. Both parents will be working at the **Michael Garron hospital** and wished for their commute to be no longer than 20 minutes by car. "
        },
        {
            "cell_type": "markdown",
            "metadata": {},
            "source": "### 1.2 Problematic"
        },
        {
            "cell_type": "markdown",
            "metadata": {},
            "source": "Moving from one country to another is not an easy task, particularly when one does not have a point of reference. This project will help to determine the best borough in Toronto for this family to relocate and ensure that their transition into this new life is as smooth as possible"
        },
        {
            "cell_type": "code",
            "execution_count": 1,
            "metadata": {},
            "outputs": [
                {
                    "name": "stdout",
                    "output_type": "stream",
                    "text": "All Imported\n"
                }
            ],
            "source": "import pandas as pd \nimport numpy as np\nimport csv\nimport json\nfrom pandas.io.json import json_normalize\nfrom IPython.display import Image \nfrom IPython.core.display import HTML\n\nprint('All Imported')"
        },
        {
            "cell_type": "markdown",
            "metadata": {},
            "source": "### Address of the Michael Garron Hospital"
        },
        {
            "cell_type": "code",
            "execution_count": 48,
            "metadata": {},
            "outputs": [],
            "source": "work_location = '825 Coxwell Ave, East York, ON M4C 3E7'"
        },
        {
            "cell_type": "markdown",
            "metadata": {},
            "source": "# Data Source"
        },
        {
            "cell_type": "markdown",
            "metadata": {},
            "source": "To assess the level of criminality in Toronto, we will scrap and analyze data from the [open data portal](https://open.toronto.ca/dataset/major-crime-indicators/) from the city of Toronto. \n\nTo compare these data, criminality in Paris was extracted from [this article](https://www.leparisien.fr/paris-75/paris-la-delinquance-n-en-finit-pas-de-grimper-16-10-2019-8174451.php#:~:text=Cela%20signifie%20une%20moyenne%20de%2050%20cambriolages%20quotidiens%20dans%20la%20capitale.&text=%C2%AB%20Dans%20le%20XVIIIe%20arrondissement%2C%20il,Davantage%20de%20violences.), sourced from the Ministre de L\u2019interieur\n\nTo help define the boroughs and neighborhood of Toronto, [the open data portal](https://open.toronto.ca/dataset/neighbourhoods/) for the city of Toronto was accessed again. "
        },
        {
            "cell_type": "markdown",
            "metadata": {},
            "source": "# **Data Cleaning**"
        },
        {
            "cell_type": "markdown",
            "metadata": {},
            "source": "## City of Toronto Data Cleaning\n#### [Toronto Open Data Portal for Major Crimes](https://open.toronto.ca/dataset/major-crime-indicators/)"
        },
        {
            "cell_type": "code",
            "execution_count": 2,
            "metadata": {},
            "outputs": [
                {
                    "name": "stdout",
                    "output_type": "stream",
                    "text": "Data downloaded!\n"
                }
            ],
            "source": "!wget -q -O 'MCI_2014_to_2019.csv' https://opendata.arcgis.com/datasets/0c5fa2b642214e8baf0601405abccf30_0.csv?outSR=%7B%22latestWkid%22%3A3857%2C%22wkid%22%3A102100%7D\nprint('Data downloaded!')"
        },
        {
            "cell_type": "code",
            "execution_count": 3,
            "metadata": {},
            "outputs": [
                {
                    "data": {
                        "text/html": "<div>\n<style scoped>\n    .dataframe tbody tr th:only-of-type {\n        vertical-align: middle;\n    }\n\n    .dataframe tbody tr th {\n        vertical-align: top;\n    }\n\n    .dataframe thead th {\n        text-align: right;\n    }\n</style>\n<table border=\"1\" class=\"dataframe\">\n  <thead>\n    <tr style=\"text-align: right;\">\n      <th></th>\n      <th>X</th>\n      <th>Y</th>\n      <th>Index_</th>\n      <th>event_unique_id</th>\n      <th>occurrencedate</th>\n      <th>reporteddate</th>\n      <th>premisetype</th>\n      <th>ucr_code</th>\n      <th>ucr_ext</th>\n      <th>offence</th>\n      <th>...</th>\n      <th>occurrencedayofyear</th>\n      <th>occurrencedayofweek</th>\n      <th>occurrencehour</th>\n      <th>MCI</th>\n      <th>Division</th>\n      <th>Hood_ID</th>\n      <th>Neighbourhood</th>\n      <th>Long</th>\n      <th>Lat</th>\n      <th>ObjectId</th>\n    </tr>\n  </thead>\n  <tbody>\n    <tr>\n      <th>0</th>\n      <td>-8.816401e+06</td>\n      <td>5.434587e+06</td>\n      <td>701</td>\n      <td>GO-20141756319</td>\n      <td>2014/03/24 00:00:00+00</td>\n      <td>2014/03/24 00:00:00+00</td>\n      <td>Commercial</td>\n      <td>1430</td>\n      <td>100</td>\n      <td>Assault</td>\n      <td>...</td>\n      <td>83.0</td>\n      <td>Monday</td>\n      <td>1</td>\n      <td>Assault</td>\n      <td>D42</td>\n      <td>132</td>\n      <td>Malvern (132)</td>\n      <td>-79.199081</td>\n      <td>43.800281</td>\n      <td>1</td>\n    </tr>\n    <tr>\n      <th>1</th>\n      <td>-8.837252e+06</td>\n      <td>5.413357e+06</td>\n      <td>901</td>\n      <td>GO-20143006885</td>\n      <td>2014/09/27 00:00:00+00</td>\n      <td>2014/09/29 00:00:00+00</td>\n      <td>Other</td>\n      <td>2120</td>\n      <td>200</td>\n      <td>B&amp;E</td>\n      <td>...</td>\n      <td>270.0</td>\n      <td>Saturday</td>\n      <td>16</td>\n      <td>Break and Enter</td>\n      <td>D52</td>\n      <td>76</td>\n      <td>Bay Street Corridor (76)</td>\n      <td>-79.386383</td>\n      <td>43.662472</td>\n      <td>2</td>\n    </tr>\n    <tr>\n      <th>2</th>\n      <td>-8.862433e+06</td>\n      <td>5.422276e+06</td>\n      <td>702</td>\n      <td>GO-20141756802</td>\n      <td>2014/03/24 00:00:00+00</td>\n      <td>2014/03/24 00:00:00+00</td>\n      <td>Commercial</td>\n      <td>2120</td>\n      <td>200</td>\n      <td>B&amp;E</td>\n      <td>...</td>\n      <td>83.0</td>\n      <td>Monday</td>\n      <td>6</td>\n      <td>Break and Enter</td>\n      <td>D23</td>\n      <td>1</td>\n      <td>West Humber-Clairville (1)</td>\n      <td>-79.612595</td>\n      <td>43.720406</td>\n      <td>3</td>\n    </tr>\n    <tr>\n      <th>3</th>\n      <td>-8.833104e+06</td>\n      <td>5.431887e+06</td>\n      <td>703</td>\n      <td>GO-20141760570</td>\n      <td>2014/03/24 00:00:00+00</td>\n      <td>2014/03/24 00:00:00+00</td>\n      <td>Apartment</td>\n      <td>2120</td>\n      <td>200</td>\n      <td>B&amp;E</td>\n      <td>...</td>\n      <td>83.0</td>\n      <td>Monday</td>\n      <td>15</td>\n      <td>Break and Enter</td>\n      <td>D33</td>\n      <td>47</td>\n      <td>Don Valley Village (47)</td>\n      <td>-79.349121</td>\n      <td>43.782772</td>\n      <td>4</td>\n    </tr>\n    <tr>\n      <th>4</th>\n      <td>-8.845311e+06</td>\n      <td>5.413667e+06</td>\n      <td>902</td>\n      <td>GO-20142004859</td>\n      <td>2014/05/03 00:00:00+00</td>\n      <td>2014/05/03 00:00:00+00</td>\n      <td>Commercial</td>\n      <td>1610</td>\n      <td>210</td>\n      <td>Robbery - Business</td>\n      <td>...</td>\n      <td>123.0</td>\n      <td>Saturday</td>\n      <td>2</td>\n      <td>Robbery</td>\n      <td>D11</td>\n      <td>90</td>\n      <td>Junction Area (90)</td>\n      <td>-79.458778</td>\n      <td>43.664490</td>\n      <td>5</td>\n    </tr>\n  </tbody>\n</table>\n<p>5 rows \u00d7 29 columns</p>\n</div>",
                        "text/plain": "              X             Y  Index_ event_unique_id          occurrencedate  \\\n0 -8.816401e+06  5.434587e+06     701  GO-20141756319  2014/03/24 00:00:00+00   \n1 -8.837252e+06  5.413357e+06     901  GO-20143006885  2014/09/27 00:00:00+00   \n2 -8.862433e+06  5.422276e+06     702  GO-20141756802  2014/03/24 00:00:00+00   \n3 -8.833104e+06  5.431887e+06     703  GO-20141760570  2014/03/24 00:00:00+00   \n4 -8.845311e+06  5.413667e+06     902  GO-20142004859  2014/05/03 00:00:00+00   \n\n             reporteddate premisetype  ucr_code  ucr_ext             offence  \\\n0  2014/03/24 00:00:00+00  Commercial      1430      100             Assault   \n1  2014/09/29 00:00:00+00       Other      2120      200                 B&E   \n2  2014/03/24 00:00:00+00  Commercial      2120      200                 B&E   \n3  2014/03/24 00:00:00+00   Apartment      2120      200                 B&E   \n4  2014/05/03 00:00:00+00  Commercial      1610      210  Robbery - Business   \n\n   ...  occurrencedayofyear occurrencedayofweek  occurrencehour  \\\n0  ...                 83.0          Monday                   1   \n1  ...                270.0          Saturday                16   \n2  ...                 83.0          Monday                   6   \n3  ...                 83.0          Monday                  15   \n4  ...                123.0          Saturday                 2   \n\n               MCI Division  Hood_ID               Neighbourhood       Long  \\\n0          Assault      D42      132               Malvern (132) -79.199081   \n1  Break and Enter      D52       76    Bay Street Corridor (76) -79.386383   \n2  Break and Enter      D23        1  West Humber-Clairville (1) -79.612595   \n3  Break and Enter      D33       47     Don Valley Village (47) -79.349121   \n4          Robbery      D11       90          Junction Area (90) -79.458778   \n\n         Lat  ObjectId  \n0  43.800281         1  \n1  43.662472         2  \n2  43.720406         3  \n3  43.782772         4  \n4  43.664490         5  \n\n[5 rows x 29 columns]"
                    },
                    "execution_count": 3,
                    "metadata": {},
                    "output_type": "execute_result"
                }
            ],
            "source": "crimes_df = pd.read_csv('MCI_2014_to_2019.csv')\ncrimes_df.head()"
        },
        {
            "cell_type": "code",
            "execution_count": 4,
            "metadata": {},
            "outputs": [
                {
                    "data": {
                        "text/html": "<div>\n<style scoped>\n    .dataframe tbody tr th:only-of-type {\n        vertical-align: middle;\n    }\n\n    .dataframe tbody tr th {\n        vertical-align: top;\n    }\n\n    .dataframe thead th {\n        text-align: right;\n    }\n</style>\n<table border=\"1\" class=\"dataframe\">\n  <thead>\n    <tr style=\"text-align: right;\">\n      <th></th>\n      <th>MCI</th>\n      <th>occurrenceyear</th>\n      <th>Lat</th>\n      <th>Long</th>\n      <th>Neighbourhood</th>\n    </tr>\n  </thead>\n  <tbody>\n    <tr>\n      <th>0</th>\n      <td>Assault</td>\n      <td>2014.0</td>\n      <td>43.800281</td>\n      <td>-79.199081</td>\n      <td>Malvern (132)</td>\n    </tr>\n    <tr>\n      <th>1</th>\n      <td>Break and Enter</td>\n      <td>2014.0</td>\n      <td>43.662472</td>\n      <td>-79.386383</td>\n      <td>Bay Street Corridor (76)</td>\n    </tr>\n    <tr>\n      <th>2</th>\n      <td>Break and Enter</td>\n      <td>2014.0</td>\n      <td>43.720406</td>\n      <td>-79.612595</td>\n      <td>West Humber-Clairville (1)</td>\n    </tr>\n    <tr>\n      <th>3</th>\n      <td>Break and Enter</td>\n      <td>2014.0</td>\n      <td>43.782772</td>\n      <td>-79.349121</td>\n      <td>Don Valley Village (47)</td>\n    </tr>\n    <tr>\n      <th>4</th>\n      <td>Robbery</td>\n      <td>2014.0</td>\n      <td>43.664490</td>\n      <td>-79.458778</td>\n      <td>Junction Area (90)</td>\n    </tr>\n  </tbody>\n</table>\n</div>",
                        "text/plain": "               MCI  occurrenceyear        Lat       Long  \\\n0          Assault          2014.0  43.800281 -79.199081   \n1  Break and Enter          2014.0  43.662472 -79.386383   \n2  Break and Enter          2014.0  43.720406 -79.612595   \n3  Break and Enter          2014.0  43.782772 -79.349121   \n4          Robbery          2014.0  43.664490 -79.458778   \n\n                Neighbourhood  \n0               Malvern (132)  \n1    Bay Street Corridor (76)  \n2  West Humber-Clairville (1)  \n3     Don Valley Village (47)  \n4          Junction Area (90)  "
                    },
                    "execution_count": 4,
                    "metadata": {},
                    "output_type": "execute_result"
                }
            ],
            "source": "crimes2_df = crimes_df[['MCI', 'occurrenceyear', 'Lat', 'Long', 'Neighbourhood']]\ncrimes2_df.head()"
        },
        {
            "cell_type": "markdown",
            "metadata": {},
            "source": "Now that dataframe only contains the desired information, I want to isolate only the year 2019. Before being able to do so, all non finite values have to first be dropped. To do so, Iam amylizing this dataframe to see if any null and non-finite occurence exist:"
        },
        {
            "cell_type": "code",
            "execution_count": 5,
            "metadata": {},
            "outputs": [
                {
                    "name": "stdout",
                    "output_type": "stream",
                    "text": "Occurrence year type is:  f\nThere are 59 null occurences, 0 numbers and 206376  finite numbers in the \"yearoccurrence\" column.\n"
                }
            ],
            "source": "type_ = crimes2_df['occurrenceyear'].dtype.kind\nnull_ = crimes2_df['occurrenceyear'].isnull().sum()\ninf_ = np.isinf(crimes2_df['occurrenceyear']).sum()\nfin_ = np.isfinite(crimes2_df['occurrenceyear']).sum()\nprint('Occurrence year type is: ', type_)\nprint('There are' , null_, 'null occurences,', inf_, 'numbers and', fin_, ' finite numbers in the \"yearoccurrence\" column.')"
        },
        {
            "cell_type": "code",
            "execution_count": 6,
            "metadata": {},
            "outputs": [
                {
                    "data": {
                        "text/plain": "(206435, 5)"
                    },
                    "execution_count": 6,
                    "metadata": {},
                    "output_type": "execute_result"
                }
            ],
            "source": "crimes2_df.dropna(subset=['occurrenceyear'])\ncrimes2_df.shape"
        },
        {
            "cell_type": "markdown",
            "metadata": {},
            "source": "Now that the 59 Null occurences are dropped, we only keep year 2019. There are now 37,674 crimes that occured in Toronto for the year 2019. The dataset is ready to use."
        },
        {
            "cell_type": "code",
            "execution_count": 41,
            "metadata": {},
            "outputs": [
                {
                    "data": {
                        "text/html": "<div>\n<style scoped>\n    .dataframe tbody tr th:only-of-type {\n        vertical-align: middle;\n    }\n\n    .dataframe tbody tr th {\n        vertical-align: top;\n    }\n\n    .dataframe thead th {\n        text-align: right;\n    }\n</style>\n<table border=\"1\" class=\"dataframe\">\n  <thead>\n    <tr style=\"text-align: right;\">\n      <th></th>\n      <th>MCI</th>\n      <th>occurrenceyear</th>\n      <th>Lat</th>\n      <th>Long</th>\n      <th>Neighbourhood</th>\n    </tr>\n  </thead>\n  <tbody>\n    <tr>\n      <th>0</th>\n      <td>Assault</td>\n      <td>2019.0</td>\n      <td>43.810932</td>\n      <td>-79.227135</td>\n      <td>Malvern (132)</td>\n    </tr>\n    <tr>\n      <th>1</th>\n      <td>Assault</td>\n      <td>2019.0</td>\n      <td>43.663906</td>\n      <td>-79.384155</td>\n      <td>Church-Yonge Corridor (75)</td>\n    </tr>\n    <tr>\n      <th>2</th>\n      <td>Assault</td>\n      <td>2019.0</td>\n      <td>43.655777</td>\n      <td>-79.380676</td>\n      <td>Church-Yonge Corridor (75)</td>\n    </tr>\n    <tr>\n      <th>3</th>\n      <td>Assault</td>\n      <td>2019.0</td>\n      <td>43.723015</td>\n      <td>-79.415932</td>\n      <td>Bedford Park-Nortown (39)</td>\n    </tr>\n    <tr>\n      <th>4</th>\n      <td>Break and Enter</td>\n      <td>2019.0</td>\n      <td>43.648773</td>\n      <td>-79.528748</td>\n      <td>Islington-City Centre West (14)</td>\n    </tr>\n  </tbody>\n</table>\n</div>",
                        "text/plain": "               MCI  occurrenceyear        Lat       Long  \\\n0          Assault          2019.0  43.810932 -79.227135   \n1          Assault          2019.0  43.663906 -79.384155   \n2          Assault          2019.0  43.655777 -79.380676   \n3          Assault          2019.0  43.723015 -79.415932   \n4  Break and Enter          2019.0  43.648773 -79.528748   \n\n                     Neighbourhood  \n0                    Malvern (132)  \n1       Church-Yonge Corridor (75)  \n2       Church-Yonge Corridor (75)  \n3        Bedford Park-Nortown (39)  \n4  Islington-City Centre West (14)  "
                    },
                    "execution_count": 41,
                    "metadata": {},
                    "output_type": "execute_result"
                }
            ],
            "source": "crimes3_df = crimes2_df.loc[crimes2_df['occurrenceyear'] == 2019.0]\ncrimes3_df.reset_index(drop=True, inplace=True)\ncrimes3_df.head()\n"
        },
        {
            "cell_type": "code",
            "execution_count": 44,
            "metadata": {},
            "outputs": [
                {
                    "data": {
                        "text/plain": "(37674, 5)"
                    },
                    "execution_count": 44,
                    "metadata": {},
                    "output_type": "execute_result"
                }
            ],
            "source": "crimes3_df.shape"
        },
        {
            "cell_type": "markdown",
            "metadata": {},
            "source": "## City of Paris Data set"
        },
        {
            "cell_type": "markdown",
            "metadata": {},
            "source": "Unfortunately, there are no open source for crime data for the Paris metro area. Data were extracted from [this article](https://www.leparisien.fr/paris-75/paris-la-delinquance-n-en-finit-pas-de-grimper-16-10-2019-8174451.php#:~:text=Cela%20signifie%20une%20moyenne%20de%2050%20cambriolages%20quotidiens%20dans%20la%20capitale.&text=%C2%AB%20Dans%20le%20XVIIIe%20arrondissement%2C%20il,Davantage%20de%20violences.), for which the data were provided by the French government. To standardize the categories, all assaults were grouped together. The same was for robberies and thefts. Data are from Jan - Sept inclusively. Since the data were in an image and not in a table, the values were added to a panda dictionnary that was further transfored in a dataframe."
        },
        {
            "cell_type": "code",
            "execution_count": 45,
            "metadata": {},
            "outputs": [
                {
                    "data": {
                        "text/html": "<div>\n<style scoped>\n    .dataframe tbody tr th:only-of-type {\n        vertical-align: middle;\n    }\n\n    .dataframe tbody tr th {\n        vertical-align: top;\n    }\n\n    .dataframe thead th {\n        text-align: right;\n    }\n</style>\n<table border=\"1\" class=\"dataframe\">\n  <thead>\n    <tr style=\"text-align: right;\">\n      <th></th>\n      <th>Count_Paris</th>\n    </tr>\n  </thead>\n  <tbody>\n    <tr>\n      <th>Assault</th>\n      <td>26299</td>\n    </tr>\n    <tr>\n      <th>Break and Enter</th>\n      <td>13743</td>\n    </tr>\n    <tr>\n      <th>Robbery</th>\n      <td>12757</td>\n    </tr>\n    <tr>\n      <th>Theft Over</th>\n      <td>130898</td>\n    </tr>\n    <tr>\n      <th>Other</th>\n      <td>50514</td>\n    </tr>\n  </tbody>\n</table>\n</div>",
                        "text/plain": "                 Count_Paris\nAssault                26299\nBreak and Enter        13743\nRobbery                12757\nTheft Over            130898\nOther                  50514"
                    },
                    "execution_count": 45,
                    "metadata": {},
                    "output_type": "execute_result"
                }
            ],
            "source": "paris_crimes = {'Assault': 26299, 'Break and Enter': 13743, 'Robbery':12757, 'Theft Over': 130898, 'Other':50514}\nparis = pd.Series(paris_crimes)\nparis_df = pd.DataFrame(paris)\nparis_df.rename(columns = {0:'Count_Paris'}, inplace = True)\nparis_df"
        },
        {
            "cell_type": "markdown",
            "metadata": {},
            "source": "# Techniques used"
        },
        {
            "cell_type": "markdown",
            "metadata": {},
            "source": "### Data Analysis"
        },
        {
            "cell_type": "markdown",
            "metadata": {},
            "source": "Data Analysis will help us narrow down the sagest neighborhood\n\n1- we will create a new dataframe that will contain all crimes by types.\n    a.\tPie charts will then be used to compare Paris and Toronto criminality\n    \n2- We will use the panda library again to isolate the 10 more dangerous and the 10 safest neighborhoods of Toronto. Graph bars will then be use to illustrate the difference.\n\n3- Using folium and geopy, all crimes will be transposed onto a map of Toronto to provide an additional visual.\n\n4- All neighbourhoods within 10-15 km distance from the hospital will be selected for further analysis\n"
        },
        {
            "cell_type": "markdown",
            "metadata": {},
            "source": "### Foursquare API"
        },
        {
            "cell_type": "markdown",
            "metadata": {},
            "source": "5- Foursquare API will be used to first, determine if each neighborhood contained both a elementary and high schools that are close to each other. \n\n6- Foursquare API will be used to retrieve all restaurants venues in the selected neighborhoods. \n\n7- For the selected neighborhoods, the one with the overall best school scores and with the greatest variety of restaurants will be selected. "
        }
    ],
    "metadata": {
        "kernelspec": {
            "display_name": "Python 3.6",
            "language": "python",
            "name": "python3"
        },
        "language_info": {
            "codemirror_mode": {
                "name": "ipython",
                "version": 3
            },
            "file_extension": ".py",
            "mimetype": "text/x-python",
            "name": "python",
            "nbconvert_exporter": "python",
            "pygments_lexer": "ipython3",
            "version": "3.6.9"
        }
    },
    "nbformat": 4,
    "nbformat_minor": 1
}